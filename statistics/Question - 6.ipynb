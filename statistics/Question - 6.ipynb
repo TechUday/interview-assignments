{
 "cells": [
  {
   "cell_type": "markdown",
   "id": "81eacb9e",
   "metadata": {},
   "source": [
    "### Q-6. A pharmaceutical company is developing a drug that is supposed to reduce blood pressure. They conduct a clinical trial with 100 patients and record their blood pressure before and after taking the drug. The company wants to know if the change in blood pressure follows a normal distribution.\n",
    " \n",
    " https://drive.google.com/file/d/1mCjtYHiX--mMUjicuaP2gH3k-SnFxt8Y/view?usp=share_\n"
   ]
  },
  {
   "cell_type": "code",
   "execution_count": 8,
   "id": "daa349a4",
   "metadata": {
    "scrolled": true
   },
   "outputs": [
    {
     "name": "stdout",
     "output_type": "stream",
     "text": [
      "Test statistic: 0.792026162147522\n",
      "p-value: 2.812811387868261e-19\n",
      "Required Sample Size: 53.94061742677978\n"
     ]
    },
    {
     "ename": "TypeError",
     "evalue": "power_divergence() got an unexpected keyword argument 'effect_size'",
     "output_type": "error",
     "traceback": [
      "\u001b[1;31m---------------------------------------------------------------------------\u001b[0m",
      "\u001b[1;31mTypeError\u001b[0m                                 Traceback (most recent call last)",
      "\u001b[1;32m~\\AppData\\Local\\Temp\\ipykernel_17868\\1539551886.py\u001b[0m in \u001b[0;36m<module>\u001b[1;34m\u001b[0m\n\u001b[0;32m     26\u001b[0m \u001b[1;33m\u001b[0m\u001b[0m\n\u001b[0;32m     27\u001b[0m \u001b[1;31m# Calculate the power\u001b[0m\u001b[1;33m\u001b[0m\u001b[1;33m\u001b[0m\u001b[0m\n\u001b[1;32m---> 28\u001b[1;33m \u001b[0mpower\u001b[0m \u001b[1;33m=\u001b[0m \u001b[0mpower_divergence\u001b[0m\u001b[1;33m(\u001b[0m\u001b[0mdata\u001b[0m\u001b[1;33m,\u001b[0m \u001b[1;34m'shapiro'\u001b[0m\u001b[1;33m,\u001b[0m \u001b[0meffect_size\u001b[0m\u001b[1;33m=\u001b[0m\u001b[0meffect_size\u001b[0m\u001b[1;33m,\u001b[0m \u001b[0mnobs\u001b[0m\u001b[1;33m=\u001b[0m\u001b[0mn\u001b[0m\u001b[1;33m,\u001b[0m \u001b[0malpha\u001b[0m\u001b[1;33m=\u001b[0m\u001b[0malpha\u001b[0m\u001b[1;33m)\u001b[0m\u001b[1;33m[\u001b[0m\u001b[1;36m0\u001b[0m\u001b[1;33m]\u001b[0m\u001b[1;33m\u001b[0m\u001b[1;33m\u001b[0m\u001b[0m\n\u001b[0m\u001b[0;32m     29\u001b[0m \u001b[1;33m\u001b[0m\u001b[0m\n\u001b[0;32m     30\u001b[0m \u001b[1;31m# Print the power\u001b[0m\u001b[1;33m\u001b[0m\u001b[1;33m\u001b[0m\u001b[0m\n",
      "\u001b[1;31mTypeError\u001b[0m: power_divergence() got an unexpected keyword argument 'effect_size'"
     ]
    }
   ],
   "source": [
    "import numpy as np\n",
    "from scipy.stats import shapiro,power_divergence\n",
    "import statsmodels.stats.power as smp\n",
    "\n",
    "\n",
    "# Load the data\n",
    "data = np.loadtxt(\"data.csv\", delimiter=\",\", skiprows=1)\n",
    "\n",
    "# Perform the Shapiro-Wilk test\n",
    "stat, pvalue = shapiro(data)\n",
    "\n",
    "# Print the results\n",
    "print(\"Test statistic:\", stat)\n",
    "print(\"p-value:\", pvalue)\n",
    "\n",
    "# Conduct a power analysis\n",
    "effect_size = 0.5\n",
    "alpha = 0.05  # Significance level is 0.05\n",
    "n = len(data)\n",
    "\n",
    "# Calculate the required sample size for a given power\n",
    "required_sample_size = smp.tt_solve_power(effect_size, nobs=None, alpha=alpha, power=power, alternative='two-sided')\n",
    "\n",
    "# Print the required sample size\n",
    "print(\"Required Sample Size:\", required_sample_size)\n",
    "\n",
    "# Calculate the power\n",
    "power = power_divergence(data, 'shapiro', effect_size=effect_size, nobs=n, alpha=alpha)[0]\n",
    "\n",
    "# Print the power\n",
    "print(\"Power:\", power)"
   ]
  },
  {
   "cell_type": "code",
   "execution_count": 10,
   "id": "a892f8e5",
   "metadata": {},
   "outputs": [
    {
     "name": "stdout",
     "output_type": "stream",
     "text": [
      "Test statistic: 0.792026162147522\n",
      "p-value: 2.812811387868261e-19\n",
      "Power: 0.055\n"
     ]
    }
   ],
   "source": [
    "import numpy as np\n",
    "from scipy.stats import shapiro\n",
    "\n",
    "# Load the data\n",
    "data = np.loadtxt(\"data.csv\", delimiter=\",\", skiprows=1)\n",
    "# Perform the Shapiro-Wilk test\n",
    "stat, pvalue = shapiro(data)\n",
    "\n",
    "# Print the results\n",
    "print(\"Test statistic:\", stat)\n",
    "print(\"p-value:\", pvalue)\n",
    "\n",
    "# Conduct a power analysis\n",
    "effect_size = 0.5\n",
    "alpha = 0.05\n",
    "n_simulations = 1000\n",
    "significant_count = 0\n",
    "\n",
    "# Simulate datasets and perform the Shapiro-Wilk test\n",
    "for _ in range(n_simulations):\n",
    "    simulated_data = np.random.normal(loc=0, scale=1, size=len(data))  # Example: normal distribution\n",
    "    sim_stat, sim_pvalue = shapiro(simulated_data)\n",
    "    if sim_pvalue < alpha:\n",
    "        significant_count += 1\n",
    "\n",
    "# Calculate power as the proportion of significant results\n",
    "power = significant_count / n_simulations\n",
    "\n",
    "# Print the power\n",
    "print(\"Power:\", power)\n"
   ]
  },
  {
   "cell_type": "markdown",
   "id": "e5fcc3bb",
   "metadata": {},
   "source": [
    "We can make the following conclusions:\n",
    "\n",
    "Test statistic: The test statistic for the Shapiro-Wilk test is 0.792026162147522. This value represents the calculated test statistic based on the data.\n",
    "\n",
    "p-value: The p-value for the Shapiro-Wilk test is 2.812811387868261e-19. The p-value is a measure of the evidence against the null hypothesis. In this case, the extremely small p-value suggests strong evidence to reject the null hypothesis.\n",
    "\n",
    "Power: The power of the test is 0.055. The power represents the probability of correctly rejecting the null hypothesis when it is false. In this case, the low power value suggests that the test has a low ability to detect departures from the null hypothesis, assuming that such departures exist.\n",
    "\n",
    "Based on these results, we can conclude the following:\n",
    "\n",
    "1. The change in blood pressure after taking the drug does not follow a normal distribution. This conclusion is supported by the very small p-value, which indicates strong evidence against the null hypothesis of normality.\n",
    "\n",
    "2. The Shapiro-Wilk test has a low power of 0.055, indicating that it has a low ability to detect departures from normality, assuming they exist. This means that even if the change in blood pressure does not follow a normal distribution, the test may not be able to identify it reliably.\n",
    "\n",
    "In summary, the results suggest that the change in blood pressure after taking the drug does not follow a normal distribution, and the Shapiro-Wilk test used in this analysis has a low power to detect departures from normality.\n",
    "\n",
    "\n",
    "\n",
    "\n"
   ]
  },
  {
   "cell_type": "code",
   "execution_count": null,
   "id": "4542080b",
   "metadata": {},
   "outputs": [],
   "source": []
  }
 ],
 "metadata": {
  "kernelspec": {
   "display_name": "Python 3 (ipykernel)",
   "language": "python",
   "name": "python3"
  },
  "language_info": {
   "codemirror_mode": {
    "name": "ipython",
    "version": 3
   },
   "file_extension": ".py",
   "mimetype": "text/x-python",
   "name": "python",
   "nbconvert_exporter": "python",
   "pygments_lexer": "ipython3",
   "version": "3.9.7"
  }
 },
 "nbformat": 4,
 "nbformat_minor": 5
}
