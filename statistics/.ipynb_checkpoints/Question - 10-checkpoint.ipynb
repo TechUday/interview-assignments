{
 "cells": [
  {
   "cell_type": "markdown",
   "id": "ce9bbc29",
   "metadata": {},
   "source": [
    "### Q-10. A factory produces light bulbs, and the probability of a bulb being defective is 0.05. The factory produces a large batch of 500 light bulbs.\n",
    "##### a. What is the probability that exactly 20 bulbs are defective? \n",
    "\n",
    "##### b. What is the probability that at least 10 bulbs are defective?\n",
    "\n",
    "##### c. What is the probability that at max 15 bulbs are defective? \n",
    "\n",
    "##### d. On average, how many defective bulbs would you expect in a batch of 500?\n"
   ]
  },
  {
   "cell_type": "code",
   "execution_count": 2,
   "id": "3c164b51",
   "metadata": {},
   "outputs": [
    {
     "name": "stdout",
     "output_type": "stream",
     "text": [
      "Probability that exactly 20 bulbs are defective: 0.05161619253663997\n",
      "Probability that at least 10 bulbs are defective: 0.9998316463654902\n",
      "Probability that at most 15 bulbs are defective: 0.010812459496288382\n",
      "Expected number of defective bulbs in a batch: 25.0\n"
     ]
    }
   ],
   "source": [
    "import math\n",
    "\n",
    "# Probability of a bulb being defective\n",
    "p = 0.05\n",
    "\n",
    "# Number of light bulbs in a batch\n",
    "n = 500\n",
    "\n",
    "# Probability that exactly 20 bulbs are defective\n",
    "def probability_exactly_20_defective():\n",
    "    #P(X = 20) = C(500, 20) * 0.05^20 * (1 - 0.05)^(500 - 20)\n",
    "    return math.factorial(n) / (math.factorial(20) * math.factorial(n - 20)) * p ** 20 * (1 - p) ** (n - 20)\n",
    "\n",
    "# Probability that at least 10 bulbs are defective\n",
    "def probability_at_least_10_defective():\n",
    "    #P(X >= 10) = 1 - P(X < 10) = 1 - P(X = 0) - P(X = 1) - ... - P(X = 9)\n",
    "    return 1 - sum([math.factorial(n) / (math.factorial(x) * math.factorial(n - x)) * p ** x * (1 - p) ** (n - x) for x in range(0, 10)])\n",
    "\n",
    "# Probability that at most 15 bulbs are defective\n",
    "def probability_at_most_15_defective():\n",
    "    #P(X <= 15) = P(X = 0) + P(X = 1) + ... + P(X = 15)\n",
    "    return sum([math.factorial(n) / (math.factorial(x) * math.factorial(n - x)) * p ** x * (1 - p) ** (n - x) for x in range(0, 15)])\n",
    "\n",
    "# Expected number of defective bulbs in a batch\n",
    "def expected_number_of_defective_bulbs():\n",
    "    #E(X) = n * p\n",
    "    return n * p\n",
    "\n",
    "print(\"Probability that exactly 20 bulbs are defective:\", probability_exactly_20_defective())\n",
    "print(\"Probability that at least 10 bulbs are defective:\", probability_at_least_10_defective())\n",
    "print(\"Probability that at most 15 bulbs are defective:\", probability_at_most_15_defective())\n",
    "print(\"Expected number of defective bulbs in a batch:\", expected_number_of_defective_bulbs())\n"
   ]
  }
 ],
 "metadata": {
  "kernelspec": {
   "display_name": "Python 3 (ipykernel)",
   "language": "python",
   "name": "python3"
  },
  "language_info": {
   "codemirror_mode": {
    "name": "ipython",
    "version": 3
   },
   "file_extension": ".py",
   "mimetype": "text/x-python",
   "name": "python",
   "nbconvert_exporter": "python",
   "pygments_lexer": "ipython3",
   "version": "3.9.7"
  }
 },
 "nbformat": 4,
 "nbformat_minor": 5
}
