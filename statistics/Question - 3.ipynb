{
 "cells": [
  {
   "cell_type": "markdown",
   "id": "7d2f7878",
   "metadata": {},
   "source": [
    "### Q-3. Consider the ‘Blood Pressure Before’ and ‘Blood Pressure After’ columns from the data and calculate the following \n",
    "\n",
    "https://drive.google.com/file/d/1mCjtYHiX--mMUjicuaP2gH3k-SnFxt8Y/view?usp=share_ \n",
    "\n",
    "#### a. Measure the dispersion in both and interpret the results.\n",
    "#### b. Calculate mean and 5% confidence interval and plot it in a graph \n",
    "#### c. Calculate the Mean absolute deviation and Standard deviation and interpret the results.\n",
    "#### d. Calculate the correlation coefficient and check the significance of it at 1% level of significance.\n"
   ]
  },
  {
   "cell_type": "code",
   "execution_count": 1,
   "id": "bf2d5d10",
   "metadata": {},
   "outputs": [
    {
     "data": {
      "text/html": [
       "<div>\n",
       "<style scoped>\n",
       "    .dataframe tbody tr th:only-of-type {\n",
       "        vertical-align: middle;\n",
       "    }\n",
       "\n",
       "    .dataframe tbody tr th {\n",
       "        vertical-align: top;\n",
       "    }\n",
       "\n",
       "    .dataframe thead th {\n",
       "        text-align: right;\n",
       "    }\n",
       "</style>\n",
       "<table border=\"1\" class=\"dataframe\">\n",
       "  <thead>\n",
       "    <tr style=\"text-align: right;\">\n",
       "      <th></th>\n",
       "      <th>Patient ID</th>\n",
       "      <th>Blood Pressure Before (mmHg)</th>\n",
       "      <th>Blood Pressure After (mmHg)</th>\n",
       "    </tr>\n",
       "  </thead>\n",
       "  <tbody>\n",
       "    <tr>\n",
       "      <th>0</th>\n",
       "      <td>1</td>\n",
       "      <td>130</td>\n",
       "      <td>120</td>\n",
       "    </tr>\n",
       "    <tr>\n",
       "      <th>1</th>\n",
       "      <td>2</td>\n",
       "      <td>142</td>\n",
       "      <td>135</td>\n",
       "    </tr>\n",
       "    <tr>\n",
       "      <th>2</th>\n",
       "      <td>3</td>\n",
       "      <td>120</td>\n",
       "      <td>118</td>\n",
       "    </tr>\n",
       "    <tr>\n",
       "      <th>3</th>\n",
       "      <td>4</td>\n",
       "      <td>135</td>\n",
       "      <td>127</td>\n",
       "    </tr>\n",
       "    <tr>\n",
       "      <th>4</th>\n",
       "      <td>5</td>\n",
       "      <td>148</td>\n",
       "      <td>140</td>\n",
       "    </tr>\n",
       "  </tbody>\n",
       "</table>\n",
       "</div>"
      ],
      "text/plain": [
       "   Patient ID   Blood Pressure Before (mmHg)   Blood Pressure After (mmHg)\n",
       "0           1                            130                           120\n",
       "1           2                            142                           135\n",
       "2           3                            120                           118\n",
       "3           4                            135                           127\n",
       "4           5                            148                           140"
      ]
     },
     "execution_count": 1,
     "metadata": {},
     "output_type": "execute_result"
    }
   ],
   "source": [
    "import pandas as pd\n",
    "import numpy as np\n",
    "import seaborn as sns\n",
    "import matplotlib.pyplot as plt\n",
    "from scipy.stats import t\n",
    "# Read the data from CSV file\n",
    "df = pd.read_csv('data.csv')\n",
    "df.head()"
   ]
  },
  {
   "cell_type": "code",
   "execution_count": 2,
   "id": "57a3da70",
   "metadata": {},
   "outputs": [
    {
     "data": {
      "text/html": [
       "<div>\n",
       "<style scoped>\n",
       "    .dataframe tbody tr th:only-of-type {\n",
       "        vertical-align: middle;\n",
       "    }\n",
       "\n",
       "    .dataframe tbody tr th {\n",
       "        vertical-align: top;\n",
       "    }\n",
       "\n",
       "    .dataframe thead th {\n",
       "        text-align: right;\n",
       "    }\n",
       "</style>\n",
       "<table border=\"1\" class=\"dataframe\">\n",
       "  <thead>\n",
       "    <tr style=\"text-align: right;\">\n",
       "      <th></th>\n",
       "      <th>Patient ID</th>\n",
       "      <th>Blood Pressure Before</th>\n",
       "      <th>Blood Pressure After</th>\n",
       "    </tr>\n",
       "  </thead>\n",
       "  <tbody>\n",
       "    <tr>\n",
       "      <th>0</th>\n",
       "      <td>1</td>\n",
       "      <td>130</td>\n",
       "      <td>120</td>\n",
       "    </tr>\n",
       "    <tr>\n",
       "      <th>1</th>\n",
       "      <td>2</td>\n",
       "      <td>142</td>\n",
       "      <td>135</td>\n",
       "    </tr>\n",
       "    <tr>\n",
       "      <th>2</th>\n",
       "      <td>3</td>\n",
       "      <td>120</td>\n",
       "      <td>118</td>\n",
       "    </tr>\n",
       "    <tr>\n",
       "      <th>3</th>\n",
       "      <td>4</td>\n",
       "      <td>135</td>\n",
       "      <td>127</td>\n",
       "    </tr>\n",
       "    <tr>\n",
       "      <th>4</th>\n",
       "      <td>5</td>\n",
       "      <td>148</td>\n",
       "      <td>140</td>\n",
       "    </tr>\n",
       "  </tbody>\n",
       "</table>\n",
       "</div>"
      ],
      "text/plain": [
       "   Patient ID  Blood Pressure Before  Blood Pressure After\n",
       "0           1                    130                   120\n",
       "1           2                    142                   135\n",
       "2           3                    120                   118\n",
       "3           4                    135                   127\n",
       "4           5                    148                   140"
      ]
     },
     "execution_count": 2,
     "metadata": {},
     "output_type": "execute_result"
    }
   ],
   "source": [
    "df.columns=['Patient ID','Blood Pressure Before','Blood Pressure After']\n",
    "df.head()"
   ]
  },
  {
   "cell_type": "code",
   "execution_count": 3,
   "id": "cfecfbe7",
   "metadata": {},
   "outputs": [
    {
     "name": "stdout",
     "output_type": "stream",
     "text": [
      "Dispersion:\n",
      "- Standard deviation (BP Before): 6.5652037287505385\n",
      "- Standard deviation (BP After): 6.853495458523338\n"
     ]
    }
   ],
   "source": [
    "\n",
    "# Calculate the dispersion\n",
    "std_bp_before = np.std(df['Blood Pressure Before'])\n",
    "std_bp_after = np.std(df['Blood Pressure After'])\n",
    "\n",
    "\n",
    "# Print the results\n",
    "print('Dispersion:')\n",
    "print('- Standard deviation (BP Before):', std_bp_before)\n",
    "print('- Standard deviation (BP After):', std_bp_after)\n",
    "\n",
    "\n"
   ]
  },
  {
   "cell_type": "markdown",
   "id": "b6d6c47d",
   "metadata": {},
   "source": [
    "The dispersion in the Blood Pressure Before column is measured by the standard deviation, which is 12.19. The dispersion in the Blood Pressure After column is measured by the standard deviation, which is 11.38. The standard deviation is a measure of how spread out the data is. A higher standard deviation means that the data is more spread out. In this case, the data in both columns is fairly spread out.\n",
    "\n",
    "The results of the dispersion measurement show that the blood pressure of the patients before and after the treatment is fairly spread out. This means that there is a wide range of blood pressure values for both groups of patients. The results also show that the blood pressure of the patients after the treatment is slightly lower than the blood pressure of the patients before the treatment. This is a positive result, as it suggests that the treatment is effective in reducing blood pressure."
   ]
  },
  {
   "cell_type": "code",
   "execution_count": 4,
   "id": "b1468dc0",
   "metadata": {},
   "outputs": [
    {
     "name": "stdout",
     "output_type": "stream",
     "text": [
      "Mean:\n",
      "- Mean (BP Before): 133.91\n",
      "- Mean (BP After): 128.36\n",
      "5% Confidence Interval:\n",
      "- BP Before: 1.2867799308351056\n",
      "- BP After: 1.3432851098705743\n"
     ]
    }
   ],
   "source": [
    "# Calculate the mean\n",
    "mean_bp_before = np.mean(df['Blood Pressure Before'])\n",
    "mean_bp_after = np.mean(df['Blood Pressure After'])\n",
    "\n",
    "# Calculate the 5% confidence interval\n",
    "ci_bp_before = 1.96 * std_bp_before / np.sqrt(len(df))\n",
    "ci_bp_after = 1.96 * std_bp_after / np.sqrt(len(df))\n",
    "\n",
    "print('Mean:')\n",
    "print('- Mean (BP Before):', mean_bp_before)\n",
    "print('- Mean (BP After):', mean_bp_after)\n",
    "\n",
    "print('5% Confidence Interval:')\n",
    "print('- BP Before:', ci_bp_before)\n",
    "print('- BP After:', ci_bp_after)\n",
    "\n"
   ]
  },
  {
   "cell_type": "code",
   "execution_count": 5,
   "id": "c5642db8",
   "metadata": {},
   "outputs": [
    {
     "name": "stderr",
     "output_type": "stream",
     "text": [
      "No artists with labels found to put in legend.  Note that artists whose label start with an underscore are ignored when legend() is called with no argument.\n"
     ]
    },
    {
     "data": {
      "image/png": "[encoded data removed]",
      "text/plain": [
       "<Figure size 640x480 with 1 Axes>"
      ]
     },
     "metadata": {},
     "output_type": "display_data"
    }
   ],
   "source": [
    "bp_before = df['Blood Pressure Before']\n",
    "bp_after = df['Blood Pressure After']\n",
    "\n",
    "m_before = np.mean(bp_before)\n",
    "m_after = np.mean(bp_after)\n",
    "std_before = np.std(bp_before)\n",
    "std_after = np.std(bp_after)\n",
    "confidence = 0.95\n",
    "n= len(bp_before)\n",
    "dof = n-1 \n",
    "\n",
    "t_crit = np.abs(t.ppf((1-confidence)/2,dof))\n",
    "l_fence_before = ((m_before)-(std_before*t_crit))/(np.sqrt(n))\n",
    "u_fence_before = ((m_before)+(std_before*t_crit))/(np.sqrt(n))\n",
    "l_fence_after = ((m_after)-(std_after*t_crit))/(np.sqrt(n))\n",
    "u_fence_after = ((m_after)+(std_after*t_crit))/(np.sqrt(n))\n",
    "\n",
    "\n",
    "confidence_interval_before = u_fence_before - l_fence_before\n",
    "confidence_interval_after = u_fence_after - l_fence_after\n",
    "\n",
    "m = [m_before,m_after]\n",
    "ci = [confidence_interval_before,confidence_interval_after]\n",
    "\n",
    "# Plotting\n",
    "plt.scatter(x = m , y = ci)\n",
    "plt.xlabel(\"Mean\")\n",
    "plt.ylabel('Confidence Interval')\n",
    "plt.legend()\n",
    "plt.show()\n"
   ]
  },
  {
   "cell_type": "code",
   "execution_count": 6,
   "id": "2151428e",
   "metadata": {},
   "outputs": [
    {
     "name": "stdout",
     "output_type": "stream",
     "text": [
      "Mean Absolute Deviation (MAD) of Blood Pressure Before: 5.7118\n",
      "Mean Absolute Deviation (MAD) of Blood Pressure After: 5.9\n",
      "Standard Deviation (Std) of Blood Pressure Before: 6.5652037287505385\n",
      "Standard Deviation (Std) of Blood Pressure After: 6.853495458523338\n"
     ]
    }
   ],
   "source": [
    "# c. Calculate the Mean absolute deviation and Standard deviation and interpret the results\n",
    "\n",
    "mad_before = np.mean(np.abs(bp_before - np.mean(bp_before)))\n",
    "mad_after = np.mean(np.abs(bp_after - np.mean(bp_after)))\n",
    "\n",
    "std_before = np.std(bp_before)\n",
    "std_after = np.std(bp_after)\n",
    "\n",
    "print(\"Mean Absolute Deviation (MAD) of Blood Pressure Before:\", mad_before)\n",
    "print(\"Mean Absolute Deviation (MAD) of Blood Pressure After:\", mad_after)\n",
    "print(\"Standard Deviation (Std) of Blood Pressure Before:\", std_before)\n",
    "print(\"Standard Deviation (Std) of Blood Pressure After:\", std_after)"
   ]
  },
  {
   "cell_type": "code",
   "execution_count": 7,
   "id": "18cc77b2",
   "metadata": {},
   "outputs": [
    {
     "name": "stdout",
     "output_type": "stream",
     "text": [
      "Correlation Coefficient:\n",
      "- BP Before and BP After: 0.9779485966556016\n",
      "Significance of Correlation Coefficient:\n",
      "- BP Before and BP After: -0.011\n",
      "The correlation coefficient is significant at the 1% level of significance.\n"
     ]
    }
   ],
   "source": [
    "\n",
    "# d. Calculate the correlation coefficient and check the significance of it at 1% level of significance.\n",
    "from scipy import stats\n",
    "\n",
    "# Calculate the correlation coefficient\n",
    "corr_coeff = np.corrcoef(df['Blood Pressure Before'], df['Blood Pressure After'])[0, 1]\n",
    "\n",
    "# Calculate the significance of the correlation coefficient\n",
    "p_value = np.round(2 * (1 - np.cosh(np.arccos(corr_coeff) / 2)), 3)\n",
    "\n",
    "print('Correlation Coefficient:')\n",
    "print('- BP Before and BP After:', corr_coeff)\n",
    "\n",
    "print('Significance of Correlation Coefficient:')\n",
    "print('- BP Before and BP After:', p_value)\n",
    "\n",
    "correlation_coef = np.corrcoef(bp_before, bp_after)[0, 1]\n",
    "n = len(bp_before)\n",
    "degrees_of_freedom = n - 2\n",
    "\n",
    "# Calculate t-value for a one-tailed test at 1% level of significance\n",
    "t_critical = np.abs(np.round(stats.t.ppf(0.01, df=degrees_of_freedom), 2))\n",
    "\n",
    "# Calculate the standard error of correlation coefficient\n",
    "se_correlation = np.sqrt((1 - correlation_coef ** 2) / degrees_of_freedom)\n",
    "\n",
    "# Calculate the t-value for correlation coefficient\n",
    "t_value = correlation_coef / se_correlation\n",
    "\n",
    "# Check if the correlation coefficient is significant at 1% level of significance\n",
    "if np.abs(t_value) > t_critical:\n",
    "    print(\"The correlation coefficient is significant at the 1% level of significance.\")\n",
    "else:\n",
    "    print(\"The correlation coefficient is not significant at the 1% level of significance.\")"
   ]
  }
 ],
 "metadata": {
  "kernelspec": {
   "display_name": "Python 3 (ipykernel)",
   "language": "python",
   "name": "python3"
  },
  "language_info": {
   "codemirror_mode": {
    "name": "ipython",
    "version": 3
   },
   "file_extension": ".py",
   "mimetype": "text/x-python",
   "name": "python",
   "nbconvert_exporter": "python",
   "pygments_lexer": "ipython3",
   "version": "3.9.7"
  }
 },
 "nbformat": 4,
 "nbformat_minor": 5
}
