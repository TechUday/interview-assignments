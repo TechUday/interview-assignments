{
 "cells": [
  {
   "cell_type": "markdown",
   "id": "189497d4",
   "metadata": {},
   "source": [
    "### Q-8.\n",
    "Quora question pair similarity, you need to find the Similarity between two\n",
    "questions by mapping the words in the questions using TF-IDF, and using a supervised\n",
    "Algorithm you need to find the similarity between the questions."
   ]
  },
  {
   "cell_type": "code",
   "execution_count": 5,
   "id": "3af9c642",
   "metadata": {
    "execution": {
     "iopub.execute_input": "2023-06-05T06:38:25.203792Z",
     "iopub.status.busy": "2023-06-05T06:38:25.203360Z",
     "iopub.status.idle": "2023-06-05T06:38:26.798970Z",
     "shell.execute_reply": "2023-06-05T06:38:26.797902Z"
    },
    "papermill": {
     "duration": 1.604558,
     "end_time": "2023-06-05T06:38:26.801988",
     "exception": false,
     "start_time": "2023-06-05T06:38:25.197430",
     "status": "completed"
    },
    "tags": []
   },
   "outputs": [],
   "source": [
    "import pandas as pd\n",
    "from sklearn.feature_extraction.text import TfidfVectorizer\n",
    "from sklearn.model_selection import train_test_split\n",
    "from sklearn.linear_model import LogisticRegression\n",
    "from sklearn.metrics import accuracy_score\n",
    "import warnings\n",
    "warnings.filterwarnings('ignore')\n"
   ]
  },
  {
   "cell_type": "markdown",
   "id": "bf490654",
   "metadata": {
    "papermill": {
     "duration": 0.004346,
     "end_time": "2023-06-05T06:38:26.811283",
     "exception": false,
     "start_time": "2023-06-05T06:38:26.806937",
     "status": "completed"
    },
    "tags": []
   },
   "source": [
    "## Loading the dataset"
   ]
  },
  {
   "cell_type": "code",
   "execution_count": 6,
   "id": "e6ac029d",
   "metadata": {
    "execution": {
     "iopub.execute_input": "2023-06-05T06:38:26.822819Z",
     "iopub.status.busy": "2023-06-05T06:38:26.821764Z",
     "iopub.status.idle": "2023-06-05T06:38:29.178052Z",
     "shell.execute_reply": "2023-06-05T06:38:29.176954Z"
    },
    "papermill": {
     "duration": 2.365118,
     "end_time": "2023-06-05T06:38:29.181003",
     "exception": false,
     "start_time": "2023-06-05T06:38:26.815885",
     "status": "completed"
    },
    "tags": []
   },
   "outputs": [],
   "source": [
    "data = pd.read_csv('train.csv')  "
   ]
  },
  {
   "cell_type": "code",
   "execution_count": 7,
   "id": "91b11dc8",
   "metadata": {
    "execution": {
     "iopub.execute_input": "2023-06-05T06:38:29.194062Z",
     "iopub.status.busy": "2023-06-05T06:38:29.193652Z",
     "iopub.status.idle": "2023-06-05T06:38:29.227084Z",
     "shell.execute_reply": "2023-06-05T06:38:29.225819Z"
    },
    "papermill": {
     "duration": 0.043765,
     "end_time": "2023-06-05T06:38:29.230956",
     "exception": false,
     "start_time": "2023-06-05T06:38:29.187191",
     "status": "completed"
    },
    "tags": []
   },
   "outputs": [
    {
     "data": {
      "text/html": [
       "<div>\n",
       "<style scoped>\n",
       "    .dataframe tbody tr th:only-of-type {\n",
       "        vertical-align: middle;\n",
       "    }\n",
       "\n",
       "    .dataframe tbody tr th {\n",
       "        vertical-align: top;\n",
       "    }\n",
       "\n",
       "    .dataframe thead th {\n",
       "        text-align: right;\n",
       "    }\n",
       "</style>\n",
       "<table border=\"1\" class=\"dataframe\">\n",
       "  <thead>\n",
       "    <tr style=\"text-align: right;\">\n",
       "      <th></th>\n",
       "      <th>id</th>\n",
       "      <th>qid1</th>\n",
       "      <th>qid2</th>\n",
       "      <th>question1</th>\n",
       "      <th>question2</th>\n",
       "      <th>is_duplicate</th>\n",
       "    </tr>\n",
       "  </thead>\n",
       "  <tbody>\n",
       "    <tr>\n",
       "      <th>0</th>\n",
       "      <td>0</td>\n",
       "      <td>1</td>\n",
       "      <td>2</td>\n",
       "      <td>What is the step by step guide to invest in sh...</td>\n",
       "      <td>What is the step by step guide to invest in sh...</td>\n",
       "      <td>0</td>\n",
       "    </tr>\n",
       "    <tr>\n",
       "      <th>1</th>\n",
       "      <td>1</td>\n",
       "      <td>3</td>\n",
       "      <td>4</td>\n",
       "      <td>What is the story of Kohinoor (Koh-i-Noor) Dia...</td>\n",
       "      <td>What would happen if the Indian government sto...</td>\n",
       "      <td>0</td>\n",
       "    </tr>\n",
       "    <tr>\n",
       "      <th>2</th>\n",
       "      <td>2</td>\n",
       "      <td>5</td>\n",
       "      <td>6</td>\n",
       "      <td>How can I increase the speed of my internet co...</td>\n",
       "      <td>How can Internet speed be increased by hacking...</td>\n",
       "      <td>0</td>\n",
       "    </tr>\n",
       "    <tr>\n",
       "      <th>3</th>\n",
       "      <td>3</td>\n",
       "      <td>7</td>\n",
       "      <td>8</td>\n",
       "      <td>Why am I mentally very lonely? How can I solve...</td>\n",
       "      <td>Find the remainder when [math]23^{24}[/math] i...</td>\n",
       "      <td>0</td>\n",
       "    </tr>\n",
       "    <tr>\n",
       "      <th>4</th>\n",
       "      <td>4</td>\n",
       "      <td>9</td>\n",
       "      <td>10</td>\n",
       "      <td>Which one dissolve in water quikly sugar, salt...</td>\n",
       "      <td>Which fish would survive in salt water?</td>\n",
       "      <td>0</td>\n",
       "    </tr>\n",
       "  </tbody>\n",
       "</table>\n",
       "</div>"
      ],
      "text/plain": [
       "   id  qid1  qid2                                          question1  \\\n",
       "0   0     1     2  What is the step by step guide to invest in sh...   \n",
       "1   1     3     4  What is the story of Kohinoor (Koh-i-Noor) Dia...   \n",
       "2   2     5     6  How can I increase the speed of my internet co...   \n",
       "3   3     7     8  Why am I mentally very lonely? How can I solve...   \n",
       "4   4     9    10  Which one dissolve in water quikly sugar, salt...   \n",
       "\n",
       "                                           question2  is_duplicate  \n",
       "0  What is the step by step guide to invest in sh...             0  \n",
       "1  What would happen if the Indian government sto...             0  \n",
       "2  How can Internet speed be increased by hacking...             0  \n",
       "3  Find the remainder when [math]23^{24}[/math] i...             0  \n",
       "4            Which fish would survive in salt water?             0  "
      ]
     },
     "execution_count": 7,
     "metadata": {},
     "output_type": "execute_result"
    }
   ],
   "source": [
    "data.head()"
   ]
  },
  {
   "cell_type": "code",
   "execution_count": 8,
   "id": "2a4af2f1",
   "metadata": {
    "execution": {
     "iopub.execute_input": "2023-06-05T06:38:29.245477Z",
     "iopub.status.busy": "2023-06-05T06:38:29.245103Z",
     "iopub.status.idle": "2023-06-05T06:38:29.251719Z",
     "shell.execute_reply": "2023-06-05T06:38:29.250488Z"
    },
    "papermill": {
     "duration": 0.017583,
     "end_time": "2023-06-05T06:38:29.254067",
     "exception": false,
     "start_time": "2023-06-05T06:38:29.236484",
     "status": "completed"
    },
    "tags": []
   },
   "outputs": [
    {
     "data": {
      "text/plain": [
       "(404290, 6)"
      ]
     },
     "execution_count": 8,
     "metadata": {},
     "output_type": "execute_result"
    }
   ],
   "source": [
    "data.shape"
   ]
  },
  {
   "cell_type": "code",
   "execution_count": 9,
   "id": "9619db49",
   "metadata": {
    "execution": {
     "iopub.execute_input": "2023-06-05T06:38:29.266143Z",
     "iopub.status.busy": "2023-06-05T06:38:29.265790Z",
     "iopub.status.idle": "2023-06-05T06:38:29.452342Z",
     "shell.execute_reply": "2023-06-05T06:38:29.451092Z"
    },
    "papermill": {
     "duration": 0.19582,
     "end_time": "2023-06-05T06:38:29.455111",
     "exception": false,
     "start_time": "2023-06-05T06:38:29.259291",
     "status": "completed"
    },
    "tags": []
   },
   "outputs": [
    {
     "name": "stdout",
     "output_type": "stream",
     "text": [
      "<class 'pandas.core.frame.DataFrame'>\n",
      "RangeIndex: 404290 entries, 0 to 404289\n",
      "Data columns (total 6 columns):\n",
      " #   Column        Non-Null Count   Dtype \n",
      "---  ------        --------------   ----- \n",
      " 0   id            404290 non-null  int64 \n",
      " 1   qid1          404290 non-null  int64 \n",
      " 2   qid2          404290 non-null  int64 \n",
      " 3   question1     404289 non-null  object\n",
      " 4   question2     404288 non-null  object\n",
      " 5   is_duplicate  404290 non-null  int64 \n",
      "dtypes: int64(4), object(2)\n",
      "memory usage: 18.5+ MB\n"
     ]
    }
   ],
   "source": [
    "data.info()"
   ]
  },
  {
   "cell_type": "markdown",
   "id": "50697e5c",
   "metadata": {
    "papermill": {
     "duration": 0.005169,
     "end_time": "2023-06-05T06:38:29.466229",
     "exception": false,
     "start_time": "2023-06-05T06:38:29.461060",
     "status": "completed"
    },
    "tags": []
   },
   "source": [
    "## Preprocess the data"
   ]
  },
  {
   "cell_type": "code",
   "execution_count": 10,
   "id": "b53fc7ce",
   "metadata": {
    "execution": {
     "iopub.execute_input": "2023-06-05T06:38:29.478529Z",
     "iopub.status.busy": "2023-06-05T06:38:29.478139Z",
     "iopub.status.idle": "2023-06-05T06:38:29.637143Z",
     "shell.execute_reply": "2023-06-05T06:38:29.636038Z"
    },
    "papermill": {
     "duration": 0.168792,
     "end_time": "2023-06-05T06:38:29.640276",
     "exception": false,
     "start_time": "2023-06-05T06:38:29.471484",
     "status": "completed"
    },
    "tags": []
   },
   "outputs": [
    {
     "data": {
      "text/plain": [
       "id              0\n",
       "qid1            0\n",
       "qid2            0\n",
       "question1       1\n",
       "question2       2\n",
       "is_duplicate    0\n",
       "dtype: int64"
      ]
     },
     "execution_count": 10,
     "metadata": {},
     "output_type": "execute_result"
    }
   ],
   "source": [
    "data.isnull().sum()"
   ]
  },
  {
   "cell_type": "code",
   "execution_count": 11,
   "id": "00914c6b",
   "metadata": {
    "execution": {
     "iopub.execute_input": "2023-06-05T06:38:29.653050Z",
     "iopub.status.busy": "2023-06-05T06:38:29.652551Z",
     "iopub.status.idle": "2023-06-05T06:38:29.860590Z",
     "shell.execute_reply": "2023-06-05T06:38:29.859431Z"
    },
    "papermill": {
     "duration": 0.217537,
     "end_time": "2023-06-05T06:38:29.863376",
     "exception": false,
     "start_time": "2023-06-05T06:38:29.645839",
     "status": "completed"
    },
    "tags": []
   },
   "outputs": [],
   "source": [
    "# Drop rows with missing values\n",
    "data.dropna(inplace=True)\n",
    "\n",
    "# Split the data into question pairs and labels\n",
    "questions = data[['question1', 'question2']]\n",
    "labels = data['is_duplicate']\n"
   ]
  },
  {
   "cell_type": "markdown",
   "id": "1807cdf7",
   "metadata": {
    "papermill": {
     "duration": 0.00501,
     "end_time": "2023-06-05T06:38:29.873922",
     "exception": false,
     "start_time": "2023-06-05T06:38:29.868912",
     "status": "completed"
    },
    "tags": []
   },
   "source": [
    "## Split the data into training and testing sets"
   ]
  },
  {
   "cell_type": "code",
   "execution_count": 12,
   "id": "7f76d8d0",
   "metadata": {
    "execution": {
     "iopub.execute_input": "2023-06-05T06:38:29.886230Z",
     "iopub.status.busy": "2023-06-05T06:38:29.885860Z",
     "iopub.status.idle": "2023-06-05T06:38:30.020591Z",
     "shell.execute_reply": "2023-06-05T06:38:30.019263Z"
    },
    "papermill": {
     "duration": 0.144588,
     "end_time": "2023-06-05T06:38:30.023796",
     "exception": false,
     "start_time": "2023-06-05T06:38:29.879208",
     "status": "completed"
    },
    "tags": []
   },
   "outputs": [],
   "source": [
    "questions_train, questions_test, labels_train, labels_test = train_test_split(questions, labels, test_size=0.2, random_state=42)\n"
   ]
  },
  {
   "cell_type": "markdown",
   "id": "06a8b340",
   "metadata": {
    "papermill": {
     "duration": 0.005053,
     "end_time": "2023-06-05T06:38:30.034324",
     "exception": false,
     "start_time": "2023-06-05T06:38:30.029271",
     "status": "completed"
    },
    "tags": []
   },
   "source": [
    "## Apply TF-IDF transformation on the training data"
   ]
  },
  {
   "cell_type": "code",
   "execution_count": 13,
   "id": "3993db21",
   "metadata": {
    "execution": {
     "iopub.execute_input": "2023-06-05T06:38:30.048114Z",
     "iopub.status.busy": "2023-06-05T06:38:30.047728Z",
     "iopub.status.idle": "2023-06-05T06:38:37.165331Z",
     "shell.execute_reply": "2023-06-05T06:38:37.164413Z"
    },
    "papermill": {
     "duration": 7.127643,
     "end_time": "2023-06-05T06:38:37.167823",
     "exception": false,
     "start_time": "2023-06-05T06:38:30.040180",
     "status": "completed"
    },
    "tags": []
   },
   "outputs": [],
   "source": [
    "tfidf = TfidfVectorizer()\n",
    "tfidf_train = tfidf.fit_transform(questions_train['question1'] + ' ' + questions_train['question2'])\n"
   ]
  },
  {
   "cell_type": "markdown",
   "id": "646067ba",
   "metadata": {
    "papermill": {
     "duration": 0.004839,
     "end_time": "2023-06-05T06:38:37.178049",
     "exception": false,
     "start_time": "2023-06-05T06:38:37.173210",
     "status": "completed"
    },
    "tags": []
   },
   "source": [
    "## Train a supervised algorithm (Logistic Regression)"
   ]
  },
  {
   "cell_type": "code",
   "execution_count": 14,
   "id": "a7581d95",
   "metadata": {
    "execution": {
     "iopub.execute_input": "2023-06-05T06:38:37.189620Z",
     "iopub.status.busy": "2023-06-05T06:38:37.189274Z",
     "iopub.status.idle": "2023-06-05T06:38:51.747880Z",
     "shell.execute_reply": "2023-06-05T06:38:51.746722Z"
    },
    "papermill": {
     "duration": 14.56801,
     "end_time": "2023-06-05T06:38:51.751033",
     "exception": false,
     "start_time": "2023-06-05T06:38:37.183023",
     "status": "completed"
    },
    "tags": []
   },
   "outputs": [
    {
     "data": {
      "text/plain": [
       "LogisticRegression()"
      ]
     },
     "execution_count": 14,
     "metadata": {},
     "output_type": "execute_result"
    }
   ],
   "source": [
    "model = LogisticRegression()\n",
    "model.fit(tfidf_train, labels_train)\n"
   ]
  },
  {
   "cell_type": "markdown",
   "id": "6700eccd",
   "metadata": {
    "papermill": {
     "duration": 0.01778,
     "end_time": "2023-06-05T06:38:51.778996",
     "exception": false,
     "start_time": "2023-06-05T06:38:51.761216",
     "status": "completed"
    },
    "tags": []
   },
   "source": [
    "## Apply TF-IDF transformation on the testing data and predict similarity"
   ]
  },
  {
   "cell_type": "code",
   "execution_count": 15,
   "id": "88786619",
   "metadata": {
    "execution": {
     "iopub.execute_input": "2023-06-05T06:38:51.813064Z",
     "iopub.status.busy": "2023-06-05T06:38:51.812397Z",
     "iopub.status.idle": "2023-06-05T06:38:53.496031Z",
     "shell.execute_reply": "2023-06-05T06:38:53.494792Z"
    },
    "papermill": {
     "duration": 1.701586,
     "end_time": "2023-06-05T06:38:53.498795",
     "exception": false,
     "start_time": "2023-06-05T06:38:51.797209",
     "status": "completed"
    },
    "tags": []
   },
   "outputs": [],
   "source": [
    "tfidf_test = tfidf.transform(questions_test['question1'] + ' ' + questions_test['question2'])\n",
    "predictions = model.predict(tfidf_test)\n"
   ]
  },
  {
   "cell_type": "markdown",
   "id": "820a8b15",
   "metadata": {
    "papermill": {
     "duration": 0.005463,
     "end_time": "2023-06-05T06:38:53.510780",
     "exception": false,
     "start_time": "2023-06-05T06:38:53.505317",
     "status": "completed"
    },
    "tags": []
   },
   "source": [
    "## Evaluate the model"
   ]
  },
  {
   "cell_type": "code",
   "execution_count": 16,
   "id": "ae11e203",
   "metadata": {
    "execution": {
     "iopub.execute_input": "2023-06-05T06:38:53.523560Z",
     "iopub.status.busy": "2023-06-05T06:38:53.523177Z",
     "iopub.status.idle": "2023-06-05T06:38:53.536532Z",
     "shell.execute_reply": "2023-06-05T06:38:53.535020Z"
    },
    "papermill": {
     "duration": 0.0224,
     "end_time": "2023-06-05T06:38:53.538910",
     "exception": false,
     "start_time": "2023-06-05T06:38:53.516510",
     "status": "completed"
    },
    "tags": []
   },
   "outputs": [
    {
     "name": "stdout",
     "output_type": "stream",
     "text": [
      "Accuracy: 0.7550273318657399\n"
     ]
    }
   ],
   "source": [
    "accuracy = accuracy_score(labels_test, predictions)\n",
    "print(\"Accuracy:\", accuracy)\n"
   ]
  },
  {
   "cell_type": "code",
   "execution_count": 17,
   "id": "23bcd966",
   "metadata": {},
   "outputs": [],
   "source": [
    "test_df=pd.read_csv('test.csv')"
   ]
  },
  {
   "cell_type": "code",
   "execution_count": 18,
   "id": "c9e5ff77",
   "metadata": {},
   "outputs": [
    {
     "data": {
      "text/html": [
       "<div>\n",
       "<style scoped>\n",
       "    .dataframe tbody tr th:only-of-type {\n",
       "        vertical-align: middle;\n",
       "    }\n",
       "\n",
       "    .dataframe tbody tr th {\n",
       "        vertical-align: top;\n",
       "    }\n",
       "\n",
       "    .dataframe thead th {\n",
       "        text-align: right;\n",
       "    }\n",
       "</style>\n",
       "<table border=\"1\" class=\"dataframe\">\n",
       "  <thead>\n",
       "    <tr style=\"text-align: right;\">\n",
       "      <th></th>\n",
       "      <th>test_id</th>\n",
       "      <th>question1</th>\n",
       "      <th>question2</th>\n",
       "    </tr>\n",
       "  </thead>\n",
       "  <tbody>\n",
       "    <tr>\n",
       "      <th>0</th>\n",
       "      <td>0</td>\n",
       "      <td>How does the Surface Pro himself 4 compare wit...</td>\n",
       "      <td>Why did Microsoft choose core m3 and not core ...</td>\n",
       "    </tr>\n",
       "    <tr>\n",
       "      <th>1</th>\n",
       "      <td>1</td>\n",
       "      <td>Should I have a hair transplant at age 24? How...</td>\n",
       "      <td>How much cost does hair transplant require?</td>\n",
       "    </tr>\n",
       "    <tr>\n",
       "      <th>2</th>\n",
       "      <td>2</td>\n",
       "      <td>What but is the best way to send money from Ch...</td>\n",
       "      <td>What you send money to China?</td>\n",
       "    </tr>\n",
       "    <tr>\n",
       "      <th>3</th>\n",
       "      <td>3</td>\n",
       "      <td>Which food not emulsifiers?</td>\n",
       "      <td>What foods fibre?</td>\n",
       "    </tr>\n",
       "    <tr>\n",
       "      <th>4</th>\n",
       "      <td>4</td>\n",
       "      <td>How \"aberystwyth\" start reading?</td>\n",
       "      <td>How their can I start reading?</td>\n",
       "    </tr>\n",
       "  </tbody>\n",
       "</table>\n",
       "</div>"
      ],
      "text/plain": [
       "  test_id                                          question1  \\\n",
       "0       0  How does the Surface Pro himself 4 compare wit...   \n",
       "1       1  Should I have a hair transplant at age 24? How...   \n",
       "2       2  What but is the best way to send money from Ch...   \n",
       "3       3                        Which food not emulsifiers?   \n",
       "4       4                   How \"aberystwyth\" start reading?   \n",
       "\n",
       "                                           question2  \n",
       "0  Why did Microsoft choose core m3 and not core ...  \n",
       "1        How much cost does hair transplant require?  \n",
       "2                      What you send money to China?  \n",
       "3                                  What foods fibre?  \n",
       "4                     How their can I start reading?  "
      ]
     },
     "execution_count": 18,
     "metadata": {},
     "output_type": "execute_result"
    }
   ],
   "source": [
    "test_df.head()"
   ]
  },
  {
   "cell_type": "code",
   "execution_count": 20,
   "id": "f2ecf87d",
   "metadata": {},
   "outputs": [],
   "source": [
    "test_df.dropna(inplace=True)"
   ]
  },
  {
   "cell_type": "code",
   "execution_count": 21,
   "id": "e40a5b21",
   "metadata": {},
   "outputs": [],
   "source": [
    "tfidf_test = tfidf.transform(test_df['question1'] + ' ' + test_df['question2'])\n",
    "predictions = model.predict(tfidf_test)"
   ]
  },
  {
   "cell_type": "code",
   "execution_count": 25,
   "id": "91026a9d",
   "metadata": {},
   "outputs": [
    {
     "data": {
      "text/html": [
       "<div>\n",
       "<style scoped>\n",
       "    .dataframe tbody tr th:only-of-type {\n",
       "        vertical-align: middle;\n",
       "    }\n",
       "\n",
       "    .dataframe tbody tr th {\n",
       "        vertical-align: top;\n",
       "    }\n",
       "\n",
       "    .dataframe thead th {\n",
       "        text-align: right;\n",
       "    }\n",
       "</style>\n",
       "<table border=\"1\" class=\"dataframe\">\n",
       "  <thead>\n",
       "    <tr style=\"text-align: right;\">\n",
       "      <th></th>\n",
       "      <th>test_id</th>\n",
       "      <th>question1</th>\n",
       "      <th>question2</th>\n",
       "      <th>Predictions_is_duplicate</th>\n",
       "    </tr>\n",
       "  </thead>\n",
       "  <tbody>\n",
       "    <tr>\n",
       "      <th>0</th>\n",
       "      <td>0</td>\n",
       "      <td>How does the Surface Pro himself 4 compare wit...</td>\n",
       "      <td>Why did Microsoft choose core m3 and not core ...</td>\n",
       "      <td>0</td>\n",
       "    </tr>\n",
       "    <tr>\n",
       "      <th>1</th>\n",
       "      <td>1</td>\n",
       "      <td>Should I have a hair transplant at age 24? How...</td>\n",
       "      <td>How much cost does hair transplant require?</td>\n",
       "      <td>0</td>\n",
       "    </tr>\n",
       "    <tr>\n",
       "      <th>2</th>\n",
       "      <td>2</td>\n",
       "      <td>What but is the best way to send money from Ch...</td>\n",
       "      <td>What you send money to China?</td>\n",
       "      <td>0</td>\n",
       "    </tr>\n",
       "    <tr>\n",
       "      <th>3</th>\n",
       "      <td>3</td>\n",
       "      <td>Which food not emulsifiers?</td>\n",
       "      <td>What foods fibre?</td>\n",
       "      <td>0</td>\n",
       "    </tr>\n",
       "    <tr>\n",
       "      <th>4</th>\n",
       "      <td>4</td>\n",
       "      <td>How \"aberystwyth\" start reading?</td>\n",
       "      <td>How their can I start reading?</td>\n",
       "      <td>1</td>\n",
       "    </tr>\n",
       "    <tr>\n",
       "      <th>5</th>\n",
       "      <td>5</td>\n",
       "      <td>How are the two wheeler insurance from Bharti ...</td>\n",
       "      <td>I admire I am considering of buying insurance ...</td>\n",
       "      <td>0</td>\n",
       "    </tr>\n",
       "    <tr>\n",
       "      <th>6</th>\n",
       "      <td>6</td>\n",
       "      <td>How can I reduce my belly fat through a diet?</td>\n",
       "      <td>How can I reduce my lower belly fat in one month?</td>\n",
       "      <td>1</td>\n",
       "    </tr>\n",
       "    <tr>\n",
       "      <th>7</th>\n",
       "      <td>7</td>\n",
       "      <td>By scrapping the 500 and 1000 rupee notes, how...</td>\n",
       "      <td>How will the recent move to declare 500 and 10...</td>\n",
       "      <td>1</td>\n",
       "    </tr>\n",
       "    <tr>\n",
       "      <th>8</th>\n",
       "      <td>8</td>\n",
       "      <td>What are the how best books of all time?</td>\n",
       "      <td>What are some of the military history books of...</td>\n",
       "      <td>1</td>\n",
       "    </tr>\n",
       "    <tr>\n",
       "      <th>9</th>\n",
       "      <td>9</td>\n",
       "      <td>After 12th years old boy and I had sex with a ...</td>\n",
       "      <td>Can a 14 old guy date a 12 year old girl?</td>\n",
       "      <td>0</td>\n",
       "    </tr>\n",
       "  </tbody>\n",
       "</table>\n",
       "</div>"
      ],
      "text/plain": [
       "  test_id                                          question1  \\\n",
       "0       0  How does the Surface Pro himself 4 compare wit...   \n",
       "1       1  Should I have a hair transplant at age 24? How...   \n",
       "2       2  What but is the best way to send money from Ch...   \n",
       "3       3                        Which food not emulsifiers?   \n",
       "4       4                   How \"aberystwyth\" start reading?   \n",
       "5       5  How are the two wheeler insurance from Bharti ...   \n",
       "6       6      How can I reduce my belly fat through a diet?   \n",
       "7       7  By scrapping the 500 and 1000 rupee notes, how...   \n",
       "8       8           What are the how best books of all time?   \n",
       "9       9  After 12th years old boy and I had sex with a ...   \n",
       "\n",
       "                                           question2  Predictions_is_duplicate  \n",
       "0  Why did Microsoft choose core m3 and not core ...                         0  \n",
       "1        How much cost does hair transplant require?                         0  \n",
       "2                      What you send money to China?                         0  \n",
       "3                                  What foods fibre?                         0  \n",
       "4                     How their can I start reading?                         1  \n",
       "5  I admire I am considering of buying insurance ...                         0  \n",
       "6  How can I reduce my lower belly fat in one month?                         1  \n",
       "7  How will the recent move to declare 500 and 10...                         1  \n",
       "8  What are some of the military history books of...                         1  \n",
       "9          Can a 14 old guy date a 12 year old girl?                         0  "
      ]
     },
     "execution_count": 25,
     "metadata": {},
     "output_type": "execute_result"
    }
   ],
   "source": [
    "test_df['Predictions_is_duplicate']=predictions\n",
    "test_df.head(10)"
   ]
  }
 ],
 "metadata": {
  "kernelspec": {
   "display_name": "Python 3 (ipykernel)",
   "language": "python",
   "name": "python3"
  },
  "language_info": {
   "codemirror_mode": {
    "name": "ipython",
    "version": 3
   },
   "file_extension": ".py",
   "mimetype": "text/x-python",
   "name": "python",
   "nbconvert_exporter": "python",
   "pygments_lexer": "ipython3",
   "version": "3.9.7"
  },
  "papermill": {
   "default_parameters": {},
   "duration": 39.610657,
   "end_time": "2023-06-05T06:38:54.577271",
   "environment_variables": {},
   "exception": null,
   "input_path": "__notebook__.ipynb",
   "output_path": "__notebook__.ipynb",
   "parameters": {},
   "start_time": "2023-06-05T06:38:14.966614",
   "version": "2.4.0"
  }
 },
 "nbformat": 4,
 "nbformat_minor": 5
}
